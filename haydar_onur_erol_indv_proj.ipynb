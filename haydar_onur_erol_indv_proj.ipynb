{
 "cells": [
  {
   "cell_type": "code",
   "execution_count": 1,
   "metadata": {},
   "outputs": [],
   "source": [
    "import pandas as pd\n",
    "import numpy as np\n",
    "import matplotlib.pyplot as plt\n",
    "import reverse_geocoder as rg\n",
    "from geopy.distance import geodesic as m"
   ]
  },
  {
   "cell_type": "code",
   "execution_count": 2,
   "metadata": {},
   "outputs": [],
   "source": [
    "data = pd.read_csv(\"taxi-trips.csv\") #opening a file and reads it with using panda as pd and pd.read_csv\n",
    "data[\"pickup_district\"] = \"\"      # new column named to geocoder (pick-up)\n",
    "data[\"dropoff_district\"] = \"\"      #new column named  to geocoder(drop-off)\n",
    "\n"
   ]
  },
  {
   "cell_type": "code",
   "execution_count": 3,
   "metadata": {},
   "outputs": [],
   "source": [
    "pickup_longitude_array = []\n",
    "pickup_longitude_array = []\n",
    "pickup_latitude_array = []\n",
    "dropoff_longitude_array = [] #\n",
    "dropoff_latitude_array = []\n",
    "pickup_location_array = []\n",
    "dropoff_location_array = []\n",
    "distance_array = []"
   ]
  },
  {
   "cell_type": "code",
   "execution_count": 4,
   "metadata": {},
   "outputs": [
    {
     "name": "stdout",
     "output_type": "stream",
     "text": [
      "Loading formatted geocoded file...\n"
     ]
    }
   ],
   "source": [
    "#with using fil(data) I create a new column[pickup_district] with using reverse geocoding (rg.) .\n",
    "#I use a list to generate a new column \n",
    "data[\"pickup_district\"] = [i[\"name\"] for i in rg.search(\n",
    "    list(zip(data.pickup_latitude, \n",
    "        data.pickup_longitude)))]\n",
    "\n",
    "\n",
    "#with using fil(data) I create a new column[\"dropoff_district\"] with using reverse geocoding (rg.) .\n",
    "\n",
    "data[\"dropoff_district\"] = [i[\"name\"] for i in rg.search(\n",
    "    list(zip(\n",
    "        data.dropoff_latitude, \n",
    "        data.dropoff_longitude)))]\n",
    "\n",
    "\n",
    "#in my first codes i used for loops and it was worjking correct because i cut most of the taxi-trips.csv, it was like 100 rows.\n",
    "#when i tried to read all the rows i recognized it takes too much time to run all the programme.\n",
    "#To make it shorten(faster) i used zipped lists. I found this code from https://stackoverflow.com/ and designed for my project in 15.03.19. \n"
   ]
  },
  {
   "cell_type": "code",
   "execution_count": 5,
   "metadata": {},
   "outputs": [
    {
     "name": "stdout",
     "output_type": "stream",
     "text": [
      "Manhattan           45329\n",
      "New York City       34625\n",
      "Long Island City    17787\n",
      "Weehawken           11334\n",
      "The Bronx            2777\n",
      "Name: pickup_district, dtype: int64\n"
     ]
    },
    {
     "data": {
      "text/plain": [
       "<matplotlib.axes._subplots.AxesSubplot at 0x279b93dbf98>"
      ]
     },
     "execution_count": 5,
     "metadata": {},
     "output_type": "execute_result"
    },
    {
     "data": {
      "image/png": "[encoded data removed]",
      "text/plain": [
       "<Figure size 432x288 with 1 Axes>"
      ]
     },
     "metadata": {
      "needs_background": "light"
     },
     "output_type": "display_data"
    }
   ],
   "source": [
    "#this function shows us the top five pickup districs by using [:n].\n",
    "\n",
    "pickup_districts = data.pickup_district.value_counts()\n",
    "print(pickup_districts[:5])\n",
    "#in recitation week3 we learned to visualize the data. I used this to show first 5 districs by using .head(5).plot() function. \n",
    "pickup_districts.head(5).plot(kind='barh')"
   ]
  },
  {
   "cell_type": "code",
   "execution_count": 6,
   "metadata": {},
   "outputs": [
    {
     "name": "stdout",
     "output_type": "stream",
     "text": [
      "Manhattan           44478\n",
      "New York City       31082\n",
      "Long Island City    19919\n",
      "Weehawken           10621\n",
      "Brooklyn             2059\n",
      "Name: dropoff_district, dtype: int64\n"
     ]
    },
    {
     "data": {
      "text/plain": [
       "<matplotlib.axes._subplots.AxesSubplot at 0x279aa72a2b0>"
      ]
     },
     "execution_count": 6,
     "metadata": {},
     "output_type": "execute_result"
    },
    {
     "data": {
      "image/png": "[encoded data removed]",
      "text/plain": [
       "<Figure size 432x288 with 1 Axes>"
      ]
     },
     "metadata": {
      "needs_background": "light"
     },
     "output_type": "display_data"
    }
   ],
   "source": [
    "# this function shows us the top five dropoff districs by using [:n].\n",
    "\n",
    "dropoff_districts = data.dropoff_district.value_counts()\n",
    "print(dropoff_districts[:5])\n",
    "#in recitation week3 we learned to visualize the data. I used this to show first 5 districs by using .head(5).plot() function.\n",
    "dropoff_districts.head(5).plot(kind='barh')"
   ]
  },
  {
   "cell_type": "code",
   "execution_count": 7,
   "metadata": {},
   "outputs": [],
   "source": [
    "# print(data()) #only see the first 5 rows because otherwise it takes too much time"
   ]
  },
  {
   "cell_type": "code",
   "execution_count": 8,
   "metadata": {},
   "outputs": [],
   "source": [
    "#to calculate the distance i used library of geodesic as m and calculated the distance with .kilometers. I used a for loop for do it all the k and l variables.\n",
    "\n",
    "data['distance'] = [ m(k,l).kilometers \n",
    "                    for k,l in zip(\n",
    "                        zip(data.pickup_latitude, data.pickup_longitude),\n",
    "                        zip(data.dropoff_latitude, data.dropoff_longitude))]"
   ]
  },
  {
   "cell_type": "code",
   "execution_count": 9,
   "metadata": {},
   "outputs": [],
   "source": [
    "# import the date to use functions faster for programme. I define two different time one of them(time1) is return year, month, day, hour, minute, second.\n",
    "#otherone(time2) is using time1 and sptlists a day based on hours. Rush Hour Morning, Late Night, Rush Hour Evening, Afternoon, Evening, Late Night.\n",
    "#this spliting day in based on diiferent times will help us next part of programme. For example calculating the mean distance in different hours.\n",
    "import datetime\n",
    "def time1(dtime):\n",
    "    return datetime.datetime.strptime(dtime,'%Y-%m-%d %H:%M:%S')\n",
    "\n",
    "def time2(dtime):\n",
    "    d = time1(dtime)\n",
    "    h = d.hour\n",
    "    if 0 <= h < 9:\n",
    "        return 'Rush Hour Morning'\n",
    "    elif 7 <= h < 7:\n",
    "        return 'Late Night'\n",
    "    elif 9 <=h < 18:\n",
    "        return 'Rush Hour Evening'\n",
    "    elif 16 <= h < 16:\n",
    "        return 'Afternoon'\n",
    "    elif h < 23:\n",
    "        return 'Evening'\n",
    "    else:\n",
    "        return 'Late Night'\n",
    "    \n",
    "data[\"time\"] = [time2(i) for i in data.pickup_datetime]"
   ]
  },
  {
   "cell_type": "code",
   "execution_count": 10,
   "metadata": {},
   "outputs": [],
   "source": [
    "#date class helps me to calculate the time between pickup time and dropoff time. firs i calculate it for seconds(.seconds()) then divide it 60 because i want to calculate it as minutes.\n",
    "\n",
    "data[\"duration\"] = [(time1(k)-time1(l)).total_seconds()/60 \n",
    "                    for k,l in zip(data.dropoff_datetime,data.pickup_datetime)]"
   ]
  },
  {
   "cell_type": "code",
   "execution_count": 11,
   "metadata": {},
   "outputs": [
    {
     "name": "stdout",
     "output_type": "stream",
     "text": [
      "                time  distance\n",
      "0            Evening  3.378136\n",
      "1         Late Night  4.014632\n",
      "2  Rush Hour Evening  3.162453\n",
      "3  Rush Hour Morning  3.755873\n"
     ]
    },
    {
     "data": {
      "text/plain": [
       "<matplotlib.axes._subplots.AxesSubplot at 0x279ab0b4be0>"
      ]
     },
     "execution_count": 11,
     "metadata": {},
     "output_type": "execute_result"
    },
    {
     "data": {
      "image/png": "[encoded data removed]",
      "text/plain": [
       "<Figure size 432x288 with 1 Axes>"
      ]
     },
     "metadata": {
      "needs_background": "light"
     },
     "output_type": "display_data"
    }
   ],
   "source": [
    "#I searcehed for calculating distance with columns and create a new ipcture. I found an example code from https://stackoverflow.com/questions/847066/group-by-multiple-columns and i designed it for my project.\n",
    "#with this part my code prints the parts of day and the distances.\n",
    "distance_mean = data[[\"distance\",\"time\"]].groupby([\"time\"], as_index=False).mean()\n",
    "print(distance_mean)\n",
    "distance_mean.plot(kind='barh')"
   ]
  },
  {
   "cell_type": "code",
   "execution_count": 12,
   "metadata": {},
   "outputs": [
    {
     "name": "stdout",
     "output_type": "stream",
     "text": [
      "                time   duration\n",
      "0            Evening  14.893255\n",
      "1         Late Night  15.203985\n",
      "2  Rush Hour Evening  16.292876\n",
      "3  Rush Hour Morning  14.612133\n"
     ]
    },
    {
     "data": {
      "text/plain": [
       "<matplotlib.axes._subplots.AxesSubplot at 0x279ab63c0f0>"
      ]
     },
     "execution_count": 12,
     "metadata": {},
     "output_type": "execute_result"
    },
    {
     "data": {
      "image/png": "[encoded data removed]",
      "text/plain": [
       "<Figure size 432x288 with 1 Axes>"
      ]
     },
     "metadata": {
      "needs_background": "light"
     },
     "output_type": "display_data"
    }
   ],
   "source": [
    "#I searcehed for calculating distance with columns and create a new ipcture. I found an example code from https://stackoverflow.com/questions/847066/group-by-multiple-columns and i designed it for my project.\n",
    "#with this part my code prints the parts of day and the duration.\n",
    "duration_mean = data[[\"duration\",\"time\"]].groupby([\"time\"], as_index=False).mean()\n",
    "print(duration_mean)\n",
    "duration_mean.plot(kind='barh')"
   ]
  },
  {
   "cell_type": "code",
   "execution_count": 13,
   "metadata": {},
   "outputs": [
    {
     "name": "stdout",
     "output_type": "stream",
     "text": [
      "14.973369633988142 16.64640640522481\n",
      "Reject Null Hypothesis\n"
     ]
    }
   ],
   "source": [
    "#hyphotesis 1\n",
    "#\n",
    "from scipy.stats import ttest_ind\n",
    "tek = data.passenger_count<=1;\n",
    "cift = data.passenger_count>1;\n",
    "\n",
    "print (data[tek].duration.mean(), data[cift].duration.mean())\n",
    "ttest = ttest_ind(data[tek].distance, data[cift].distance)\n",
    "\n",
    "person = ttest[1]\n",
    "\n",
    "if person < 0.05:\n",
    "    print (\"Reject Null Hypothesis\")\n",
    "else:\n",
    "    print (\"Null Cannot Be Rejected\")"
   ]
  },
  {
   "cell_type": "code",
   "execution_count": 14,
   "metadata": {},
   "outputs": [
    {
     "name": "stdout",
     "output_type": "stream",
     "text": [
      "15.687140044646261 14.890360277313633\n",
      "Reject Null Hypothesis\n"
     ]
    }
   ],
   "source": [
    "#hyphotesis 2\n",
    "\n",
    "def isweekday(d):\n",
    "    return time1(d).weekday()<=4\n",
    "\n",
    "from scipy.stats import ttest_ind\n",
    "w_day = [isweekday(i) for i in data.pickup_datetime]\n",
    "w_end = [isweekday(i)==0 for i in data.pickup_datetime]\n",
    "\n",
    "print (data[w_day].duration.mean(), data[w_end].duration.mean())\n",
    "\n",
    "ttest = ttest_ind(data[w_day].distance, data[w_end].distance)\n",
    "p = ttest[1]\n",
    "\n",
    "if p < 0.05:\n",
    "    print (\"Reject Null Hypothesis\")\n",
    "else:\n",
    "    print (\"Null Cannot Be Rejected\")"
   ]
  },
  {
   "cell_type": "code",
   "execution_count": null,
   "metadata": {},
   "outputs": [],
   "source": []
  }
 ],
 "metadata": {
  "kernelspec": {
   "display_name": "Python 3",
   "language": "python",
   "name": "python3"
  },
  "language_info": {
   "codemirror_mode": {
    "name": "ipython",
    "version": 3
   },
   "file_extension": ".py",
   "mimetype": "text/x-python",
   "name": "python",
   "nbconvert_exporter": "python",
   "pygments_lexer": "ipython3",
   "version": "3.7.1"
  }
 },
 "nbformat": 4,
 "nbformat_minor": 2
}
